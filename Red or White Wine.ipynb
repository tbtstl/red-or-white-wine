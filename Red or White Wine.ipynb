{
 "cells": [
  {
   "cell_type": "markdown",
   "metadata": {},
   "source": [
    "# Classifying Wine from Chemical Attributes\n",
    "\n",
    "This notebook implements k-means clustering and principal component analysis to classify a wine as either red or white. The wine data is available as 2 `.csv` files (available [here](http://archive.ics.uci.edu/ml/datasets/Wine)), each with 11 attributes:\n",
    "- Alcohol\n",
    "- Malic Acis\n",
    "- Ash\n",
    "- Alcalinity of ash\n",
    "- Magnesium\n",
    "- Total phenois\n",
    "- Flavanoids\n",
    "- Nonflavanoid phonols\n",
    "- Color intensity\n",
    "- Hue\n",
    "- OD280/OD315 of diluted wines \n",
    "- Proline"
   ]
  },
  {
   "cell_type": "markdown",
   "metadata": {},
   "source": [
    "## Loading the data\n",
    "We can load the data here. As we can see from the shapes of the datasets, there are more white than red wines. To remedy this, we will perform undersampling on the white samples such that the number of red and white wines are equal."
   ]
  },
  {
   "cell_type": "code",
   "execution_count": 1,
   "metadata": {},
   "outputs": [
    {
     "name": "stdout",
     "output_type": "stream",
     "text": [
      "Red data shape: (1598, 11)\n",
      "White data shape: (4897, 11)\n",
      "Undersampled white data: (1598, 11)\n"
     ]
    }
   ],
   "source": [
    "import numpy as np\n",
    "import re\n",
    "\n",
    "def load_data(path, usecols, dtype=float):\n",
    "    return np.loadtxt(open(path, 'rb'),\n",
    "                      delimiter=',', \n",
    "                      skiprows=1,\n",
    "                      dtype=dtype,\n",
    "                      usecols=usecols)\n",
    "\n",
    "red_data = load_data(path='./data/redWine.csv', usecols=(0,1,2,3,4,5,6,7,8,9,10))\n",
    "white_data = load_data(path='./data/whiteWine.csv', usecols=(0,1,2,3,4,5,6,7,8,9,10))\n",
    "print(f'Red data shape: {red_data.shape}')\n",
    "print(f'White data shape: {white_data.shape}')\n",
    "\n",
    "# Undersample the white data\n",
    "idx = np.random.randint(white_data.shape[0], size=red_data.shape[0])\n",
    "white_data = white_data[idx, :]\n",
    "\n",
    "print(f'Undersampled white data: {white_data.shape}')"
   ]
  },
  {
   "cell_type": "markdown",
   "metadata": {},
   "source": [
    "## Joining the data\n",
    "Let's let `White=0` and `Red=1`. That way, we can join our data together and add labels to it."
   ]
  },
  {
   "cell_type": "code",
   "execution_count": 2,
   "metadata": {},
   "outputs": [],
   "source": [
    "WHITE = 0\n",
    "RED = 1\n",
    "white_labels = np.zeros(white_data.shape[0])\n",
    "red_labels = np.ones(red_data.shape[0])\n",
    "labels = np.concatenate((white_labels, red_labels))\n",
    "data = np.concatenate((white_data, red_data))\n",
    "labelled_data = np.column_stack((data, labels))"
   ]
  },
  {
   "cell_type": "markdown",
   "metadata": {},
   "source": [
    "## Implementing K-Means\n",
    "With the data ready to be used, we can implement a standard K-means algorithm. To initialize the process, we set the positions of the centroids to be the first `k` elements of the data, where `k` is the number of clusters (2, in our case). Then, for `n` iterations, we calculate the euclidean distance from each cluster to each data point and assign the data point to the cluster it is closest to. At the end of each iteration, the cluster's centroid moves to the 'middle' of its data."
   ]
  },
  {
   "cell_type": "code",
   "execution_count": 3,
   "metadata": {
    "collapsed": true
   },
   "outputs": [],
   "source": [
    "def train(data, centroids={}, classes={}, iterations=100, log_interval=None, k=2):\n",
    "    # Initialize the centroids, the first 'k' elements in the dataset \n",
    "    #  will be our initial centroids\n",
    "    if len(centroids.keys()) == 0:\n",
    "        for i in range(k):\n",
    "            centroids[i] = data[i]\n",
    "\n",
    "    for i in range(iterations):\n",
    "\n",
    "        if log_interval and i % log_interval == 0 and i != 0:\n",
    "            print(f'iteration: {i}/{iterations} {(i/iterations)*100}%')\n",
    "\n",
    "        for i in range(k):\n",
    "            classes[i] = []\n",
    "\n",
    "        # Find the distance between the point and cluster\n",
    "        #  choose the nearest centroid\n",
    "        for idx, features in enumerate(data):\n",
    "            distances = [np.linalg.norm(features - centroids[centroid]) for centroid in centroids]\n",
    "            classification = distances.index(min(distances))\n",
    "            classes[classification].append(features)\n",
    "\n",
    "        previous = dict(centroids)\n",
    "\n",
    "        # Average the cluster datapoints to re-calculate the centroids\n",
    "        for classification in classes:\n",
    "            centroids[classification] = np.average(classes[classification], axis=0)\n",
    "            \n",
    "    return centroids, classes"
   ]
  },
  {
   "cell_type": "markdown",
   "metadata": {},
   "source": [
    "## Classification Accuracy\n",
    "Here, we create two methods to help calculate the classification accuracy of the model, by attempting to classify any data passed into it."
   ]
  },
  {
   "cell_type": "code",
   "execution_count": 4,
   "metadata": {
    "collapsed": true
   },
   "outputs": [],
   "source": [
    "def classify(sample, centroids={}):\n",
    "    distances = [np.linalg.norm(sample - centroids[centroid]) for centroid in centroids]\n",
    "    return distances.index(min(distances))\n",
    "\n",
    "def test(features, labels, centroids):\n",
    "    white_classifications = [0, 0]\n",
    "    red_classificatons = [0, 0]\n",
    "    sorted_features = sorted(list(zip(features, labels)), key=lambda tup: tup[1])\n",
    "    \n",
    "    for feature, label in sorted_features:\n",
    "        classification = classify(feature, centroids)\n",
    "        \n",
    "        if label == WHITE:\n",
    "            white_classifications[classification] += 1\n",
    "        else:\n",
    "            red_classificatons[classification] += 1\n",
    "    \n",
    "    return white_classifications, red_classificatons"
   ]
  },
  {
   "cell_type": "markdown",
   "metadata": {},
   "source": [
    "## Train\n",
    "Here, we use K-Fold cross validation with `k=10` to find out which clusters the classifier groups the wines into. Finally, we can print out the accuracy of the clustering when compared to the true labels of the wine."
   ]
  },
  {
   "cell_type": "code",
   "execution_count": 5,
   "metadata": {},
   "outputs": [
    {
     "name": "stdout",
     "output_type": "stream",
     "text": [
      "white classifications: [1385, 213]\n",
      "red classifications: [145, 1453]\n"
     ]
    }
   ],
   "source": [
    "from sklearn.model_selection import KFold\n",
    "from operator import add\n",
    "%matplotlib inline\n",
    "\n",
    "kf = KFold(n_splits=10)\n",
    "\n",
    "centroids = {}\n",
    "classes = {}\n",
    "white_clf = [0, 0]\n",
    "red_clf = [0, 0]\n",
    "\n",
    "for train_idx, test_idx in kf.split(labelled_data):\n",
    "    centroids, classes = train(data[train_idx], centroids, classes)\n",
    "    w, r = test(data[test_idx], labels[test_idx], centroids)\n",
    "    white_clf = list(map(add, white_clf, w))\n",
    "    red_clf = list(map(add, red_clf, r))\n",
    "print(f'white classifications: {white_clf}\\nred classifications: {red_clf}')"
   ]
  },
  {
   "cell_type": "code",
   "execution_count": 6,
   "metadata": {},
   "outputs": [
    {
     "name": "stdout",
     "output_type": "stream",
     "text": [
      "White Classification Accuracy: 86.67083854818523%\n",
      "Red Classification Accuracy: 90.9261576971214%\n",
      "Total Classification Accuracy: 88.79849812265333%\n"
     ]
    }
   ],
   "source": [
    "white_cluster = white_clf.index(max(white_clf))\n",
    "red_cluster = red_clf.index(max(red_clf))\n",
    "white_acc = white_clf[white_cluster]/sum(white_clf)\n",
    "red_acc = red_clf[red_cluster]/sum(red_clf)\n",
    "total_acc = white_acc + red_acc \n",
    "total_acc /= 2\n",
    "print(f'White Classification Accuracy: {white_acc*100}%')\n",
    "print(f'Red Classification Accuracy: {red_acc*100}%')\n",
    "print(f'Total Classification Accuracy: {total_acc*100}%')"
   ]
  },
  {
   "cell_type": "markdown",
   "metadata": {},
   "source": [
    "## Visualizing the Clusters\n",
    "Finally, let's use PCA to visualize how the clusters compare to the original data."
   ]
  },
  {
   "cell_type": "code",
   "execution_count": 7,
   "metadata": {},
   "outputs": [
    {
     "data": {
      "image/png": "[encoded data removed]",
      "text/plain": [
       "<matplotlib.figure.Figure at 0x110296b70>"
      ]
     },
     "metadata": {},
     "output_type": "display_data"
    }
   ],
   "source": [
    "from sklearn.decomposition import PCA\n",
    "import matplotlib.pyplot as plt\n",
    "%matplotlib inline\n",
    "\n",
    "pca = PCA(n_components=2)\n",
    "decomposed_data = pca.fit_transform(data)\n",
    "\n",
    "classified_white_idx = []\n",
    "classified_red_idx = []\n",
    "for i, d in enumerate(data):\n",
    "    c = classify(data[i], centroids)\n",
    "    if c == white_cluster:\n",
    "        classified_white_idx.append(i)\n",
    "    else:\n",
    "        classified_red_idx.append(i)\n",
    "\n",
    "\n",
    "plt.subplot(1,2,1)\n",
    "plt.scatter(decomposed_data[red_data.shape[0]:, 0], decomposed_data[red_data.shape[0]:, 1], c='red', s=2)\n",
    "plt.scatter(decomposed_data[:white_data.shape[0], 0], decomposed_data[:white_data.shape[0], 1], c='yellow', s=2)\n",
    "plt.title('Real Values')\n",
    "\n",
    "plt.subplot(1,2,2)\n",
    "classified_whites = np.take(decomposed_data, classified_white_idx, axis=0)\n",
    "classified_reds = np.take(decomposed_data, classified_red_idx, axis=0)\n",
    "plt.scatter(classified_reds[:, 0], classified_reds[:, 1], c='red', s=2)\n",
    "plt.scatter(classified_whites[:, 0], classified_whites[:, 1], c='yellow', s=2)\n",
    "plt.title('Classified Values')\n",
    "plt.show()"
   ]
  },
  {
   "cell_type": "code",
   "execution_count": null,
   "metadata": {
    "collapsed": true
   },
   "outputs": [],
   "source": []
  }
 ],
 "metadata": {
  "kernelspec": {
   "display_name": "Python [conda env:seng474]",
   "language": "python",
   "name": "conda-env-seng474-py"
  },
  "language_info": {
   "codemirror_mode": {
    "name": "ipython",
    "version": 3
   },
   "file_extension": ".py",
   "mimetype": "text/x-python",
   "name": "python",
   "nbconvert_exporter": "python",
   "pygments_lexer": "ipython3",
   "version": "3.6.2"
  }
 },
 "nbformat": 4,
 "nbformat_minor": 2
}
